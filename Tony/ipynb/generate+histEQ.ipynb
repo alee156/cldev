{
 "cells": [
  {
   "cell_type": "code",
   "execution_count": 28,
   "metadata": {
    "collapsed": true
   },
   "outputs": [],
   "source": [
    "from skimage import data, img_as_float\n",
    "from skimage import exposure\n",
    "\n",
    "import plotly\n",
    "from plotly.graph_objs import *\n",
    "\n",
    "import cv2\n",
    "\n",
    "import math, os, gc, random\n",
    "import numpy as np\n",
    "import nibabel as nib\n",
    "import os.path\n",
    "\n",
    "## Tony's get_brain_figure stuff\n",
    "#from plotly.offline import download_plotlyjs, init_notebook_mode, iplot\n",
    "#from plotly import tools\n",
    "#plotly.offline.init_notebook_mode()\n",
    "#\n",
    "import networkx as nx\n",
    "import pandas as pd\n",
    "import re"
   ]
  },
  {
   "cell_type": "code",
   "execution_count": 29,
   "metadata": {
    "collapsed": false
   },
   "outputs": [
    {
     "data": {
      "text/plain": [
       "'/Tony'"
      ]
     },
     "execution_count": 29,
     "metadata": {},
     "output_type": "execute_result"
    }
   ],
   "source": [
    "os.getcwd()"
   ]
  },
  {
   "cell_type": "code",
   "execution_count": 31,
   "metadata": {
    "collapsed": false
   },
   "outputs": [
    {
     "name": "stdout",
     "output_type": "stream",
     "text": [
      "Generating Histogram...\n"
     ]
    }
   ],
   "source": [
    "\"\"\"Applies local equilization to the img's histogram and outputs a .nii file\"\"\"\n",
    "print('Generating Histogram...')\n",
    "path = os.getcwd()\n",
    "\n",
    "im = nib.load(path + \"/\" + \"Fear199.nii\")\n",
    "\n",
    "im = im.get_data()\n",
    "img = im[:,:,:]\n",
    "\n",
    "shape = im.shape\n",
    "#affine = im.get_affine()\n",
    "\n",
    "x_value = shape[0]\n",
    "y_value = shape[1]\n",
    "z_value = shape[2]\n",
    "\n",
    "#####################################################\n",
    "\n",
    "imgflat = img.reshape(-1)\n",
    "\n",
    "#img_grey = np.array(imgflat * 255, dtype = np.uint8)\n",
    "\n",
    "#img_eq = exposure.equalize_hist(img_grey)\n",
    "\n",
    "#new_img = img_eq.reshape(x_value, y_value, z_value)\n",
    "#globaleq = nib.Nifti1Image(new_img, np.eye(4))\n",
    "\n",
    "#nb.save(globaleq, '/home/albert/Thumbo/AutAglobaleq.nii')\n",
    "\n",
    "######################################################\n",
    "\n",
    "#clahe = cv2.createCLAHE(clipLimit=2.0, tileGridSize=(8,8))\n",
    "clahe = cv2.createCLAHE(clipLimit=2.0, tileGridSize=(8,8))\n",
    "\n",
    "img_grey = np.array(imgflat * 255, dtype = np.uint8)\n",
    "#threshed = cv2.adaptiveThreshold(img_grey, 255, cv2.ADAPTIVE_THRESH_MEAN_C, cv2.THRESH_BINARY, 3, 0)\n",
    "\n",
    "cl1 = clahe.apply(img_grey)\n",
    "\n",
    "#cv2.imwrite('clahe_2.jpg',cl1)\n",
    "#cv2.startWindowThread()\n",
    "#cv2.namedWindow(\"adaptive\")\n",
    "#cv2.imshow(\"adaptive\", cl1)\n",
    "#cv2.imshow(\"adaptive\", threshed)\n",
    "#plt.imshow(threshed)\n",
    "\n",
    "localimgflat = cl1 #cl1.reshape(-1)\n",
    "\n",
    "newer_img = localimgflat.reshape(x_value, y_value, z_value)\n",
    "localeq = nib.Nifti1Image(newer_img, np.eye(4))\n",
    "nib.save(localeq,  \"Fear199localeq.nii\")"
   ]
  },
  {
   "cell_type": "code",
   "execution_count": 33,
   "metadata": {
    "collapsed": false
   },
   "outputs": [
    {
     "name": "stdout",
     "output_type": "stream",
     "text": [
      "done\n"
     ]
    }
   ],
   "source": [
    "print \"done\""
   ]
  },
  {
   "cell_type": "code",
   "execution_count": 38,
   "metadata": {
    "collapsed": false
   },
   "outputs": [
    {
     "name": "stdout",
     "output_type": "stream",
     "text": [
      "(540, 717, 1358)\n",
      "<type 'numpy.ndarray'>\n"
     ]
    }
   ],
   "source": [
    "print newer_img.shape\n",
    "print type(newer_img)"
   ]
  },
  {
   "cell_type": "code",
   "execution_count": 36,
   "metadata": {
    "collapsed": true
   },
   "outputs": [],
   "source": [
    "from ndreg import *\n",
    "import matplotlib\n",
    "import ndio.remote.neurodata as neurodata\n",
    "import nibabel as nb"
   ]
  },
  {
   "cell_type": "code",
   "execution_count": 47,
   "metadata": {
    "collapsed": false
   },
   "outputs": [
    {
     "name": "stdout",
     "output_type": "stream",
     "text": [
      "(1358, 540, 717)\n"
     ]
    }
   ],
   "source": [
    "ITKdimensionsIMG = np.rollaxis(newer_img, 2)\n",
    "print ITKdimensionsIMG.shape"
   ]
  },
  {
   "cell_type": "code",
   "execution_count": 49,
   "metadata": {
    "collapsed": false
   },
   "outputs": [
    {
     "name": "stdout",
     "output_type": "stream",
     "text": [
      "(1358, 717, 540)\n"
     ]
    }
   ],
   "source": [
    "## if we have (i, j, k), we want (k, j, i)\n",
    "new_im = newer_img.swapaxes(0,2) # just swap i and k\n",
    "print new_im.shape"
   ]
  },
  {
   "cell_type": "code",
   "execution_count": 51,
   "metadata": {
    "collapsed": true
   },
   "outputs": [],
   "source": [
    "import scipy.misc"
   ]
  },
  {
   "cell_type": "code",
   "execution_count": 53,
   "metadata": {
    "collapsed": false
   },
   "outputs": [],
   "source": [
    "plane = 0;\n",
    "for plane in (0, 1, 2, 3, 4, 5, 6, 7, 8, 9, 10, 11, 12, 100, 101, 102, 103, 104):\n",
    "    output = np.asarray(new_im[plane])\n",
    "    ## Save as TIFF for Ilastik\n",
    "    scipy.misc.toimage(output).save('HISTEQoutfile' + \"Fear199\" + 'ITK' + str(plane) + '.tiff')"
   ]
  },
  {
   "cell_type": "code",
   "execution_count": null,
   "metadata": {
    "collapsed": true
   },
   "outputs": [],
   "source": []
  }
 ],
 "metadata": {
  "kernelspec": {
   "display_name": "Python 2",
   "language": "python",
   "name": "python2"
  },
  "language_info": {
   "codemirror_mode": {
    "name": "ipython",
    "version": 2
   },
   "file_extension": ".py",
   "mimetype": "text/x-python",
   "name": "python",
   "nbconvert_exporter": "python",
   "pygments_lexer": "ipython2",
   "version": "2.7.12"
  }
 },
 "nbformat": 4,
 "nbformat_minor": 1
}
